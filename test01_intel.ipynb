{
 "cells": [
  {
   "cell_type": "code",
   "execution_count": 1,
   "metadata": {},
   "outputs": [
    {
     "name": "stdout",
     "output_type": "stream",
     "text": [
      "Found device:  Intel RealSense D435   752112070955\n"
     ]
    }
   ],
   "source": [
    "import pyrealsense2 as rs\n",
    "ctx = rs.context()\n",
    "if len(ctx.devices) > 0:\n",
    "    for d in ctx.devices:\n",
    "      print ('Found device: ',\n",
    "      d.get_info(rs.camera_info.name), ' ',\n",
    "      d.get_info(rs.camera_info.serial_number))"
   ]
  }
 ],
 "metadata": {
  "kernelspec": {
   "display_name": "Python 3 (ipykernel)",
   "language": "python",
   "name": "python3"
  },
  "language_info": {
   "codemirror_mode": {
    "name": "ipython",
    "version": 3
   },
   "file_extension": ".py",
   "mimetype": "text/x-python",
   "name": "python",
   "nbconvert_exporter": "python",
   "pygments_lexer": "ipython3",
   "version": "3.8.12"
  },
  "orig_nbformat": 4
 },
 "nbformat": 4,
 "nbformat_minor": 2
}

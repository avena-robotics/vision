{
 "cells": [
  {
   "cell_type": "code",
   "execution_count": 1,
   "metadata": {},
   "outputs": [
    {
     "name": "stdout",
     "output_type": "stream",
     "text": [
      "Jupyter environment detected. Enabling Open3D WebVisualizer.\n",
      "[Open3D INFO] WebRTC GUI backend enabled.\n",
      "[Open3D INFO] WebRTCWindowSystem: HTTP handshake server disabled.\n",
      "[Open3D INFO] [0] Intel RealSense D455: 114122250518\n",
      "[Open3D INFO] \tdepth_fps: [100 | 15 | 30 | 5 | 60 | 90]\n",
      "[Open3D INFO] \tdepth_resolution: [1280,720 | 256,144 | 424,240 | 480,270 | 640,360 | 640,480 | 848,100 | 848,480]\n",
      "[Open3D INFO] \tdepth_format: [RS2_FORMAT_Z16]\n",
      "[Open3D INFO] \tcolor_fps: [10 | 15 | 30 | 5 | 60 | 90]\n",
      "[Open3D INFO] \tvisual_preset: []\n",
      "[Open3D INFO] \tcolor_resolution: [1280,720 | 1280,800 | 424,240 | 480,270 | 640,360 | 640,480 | 848,480]\n",
      "[Open3D INFO] \tcolor_format: [RS2_FORMAT_BGR8 | RS2_FORMAT_BGRA8 | RS2_FORMAT_RGB8 | RS2_FORMAT_RGBA8 | RS2_FORMAT_Y16 | RS2_FORMAT_YUYV]\n",
      "[Open3D INFO] Open3D only supports synchronized color and depth capture (color_fps = depth_fps).\n"
     ]
    },
    {
     "data": {
      "text/plain": [
       "True"
      ]
     },
     "execution_count": 1,
     "metadata": {},
     "output_type": "execute_result"
    }
   ],
   "source": [
    "import open3d as o3d\n",
    "o3d.t.io.RealSenseSensor.list_devices()"
   ]
  }
 ],
 "metadata": {
  "kernelspec": {
   "display_name": "Python 3 (ipykernel)",
   "language": "python",
   "name": "python3"
  },
  "language_info": {
   "codemirror_mode": {
    "name": "ipython",
    "version": 3
   },
   "file_extension": ".py",
   "mimetype": "text/x-python",
   "name": "python",
   "nbconvert_exporter": "python",
   "pygments_lexer": "ipython3",
   "version": "3.8.12"
  },
  "orig_nbformat": 4
 },
 "nbformat": 4,
 "nbformat_minor": 2
}

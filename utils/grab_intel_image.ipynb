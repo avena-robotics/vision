{
 "cells": [
  {
   "cell_type": "code",
   "execution_count": null,
   "metadata": {},
   "outputs": [],
   "source": [
    "import json\n",
    "import open3d as o3d\n",
    "with open('input/cam1.json') as cf:\n",
    "    rs_cfg = o3d.t.io.RealSenseSensorConfig(json.load(cf))\n",
    "\n",
    "rs = o3d.t.io.RealSenseSensor()\n",
    "rs.init_sensor(rs_cfg, 0, bag_filename)\n",
    "rs.start_capture(True)  # true: start recording with capture\n",
    "for fid in range(150):\n",
    "    im_rgbd = rs.capture_frame(True, True)  # wait for frames and align them\n",
    "    # process im_rgbd.depth and im_rgbd.color\n",
    "\n",
    "rs.stop_capture()"
   ]
  }
 ],
 "metadata": {
  "language_info": {
   "name": "python"
  },
  "orig_nbformat": 4
 },
 "nbformat": 4,
 "nbformat_minor": 2
}

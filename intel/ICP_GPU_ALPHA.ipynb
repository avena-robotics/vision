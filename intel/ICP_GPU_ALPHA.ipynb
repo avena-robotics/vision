{
 "cells": [
  {
   "cell_type": "code",
   "execution_count": null,
   "id": "8e5c18be",
   "metadata": {},
   "outputs": [],
   "source": [
    "criteria_list = [o3d.t.pipelines.registration.ICPConvergenceCriteria(relative_fitness=1e-4, \n",
    "                                                                     relative_rmse=1e-4, \n",
    "                                                                     max_iteration=100),\n",
    "                 o3d.t.pipelines.registration.ICPConvergenceCriteria(relative_fitness=1e-5, \n",
    "                                                                     relative_rmse=1e-5, \n",
    "                                                                     max_iteration=60),\n",
    "                 o3d.t.pipelines.registration.ICPConvergenceCriteria(relative_fitness=1e-6, \n",
    "                                                                     relative_rmse=1e-6, \n",
    "                                                                     max_iteration=30),]"
   ]
  },
  {
   "cell_type": "code",
   "execution_count": null,
   "id": "f6f352ca",
   "metadata": {},
   "outputs": [],
   "source": [
    "result = o3d.t.pipelines.registration.registration_multi_scale_icp(tsdf_all_cameras[4], \n",
    "                                                                   tsdf_all_cameras[4], \n",
    "                                                                   o3d.utility.DoubleVector([voxel_size*4, \n",
    "                                                                                             voxel_size*2, \n",
    "                                                                                             voxel_size]), \n",
    "                                                                   criteria_list,\n",
    "                                                                   o3d.utility.DoubleVector([0.3, 0.15, 0.07]),\n",
    "                                                                   o3d.core.Tensor(initial_transforms[4]))"
   ]
  },
  {
   "cell_type": "code",
   "execution_count": null,
   "id": "02bd3c4d",
   "metadata": {},
   "outputs": [],
   "source": [
    "result.transformation.cuda()\n"
   ]
  },
  {
   "cell_type": "code",
   "execution_count": null,
   "id": "6a6375c0",
   "metadata": {},
   "outputs": [],
   "source": [
    "volume = o3d.t.geometry.TSDFVoxelGrid(\n",
    "    map_attrs_to_dtypes={\n",
    "        'tsdf': o3d.core.Dtype.Float32,\n",
    "        'weight': o3d.core.Dtype.UInt16,\n",
    "        'color': o3d.core.Dtype.UInt16\n",
    "    },\n",
    "    voxel_size=0.02,\n",
    "    sdf_trunc=0.005,\n",
    "    block_resolution=16,\n",
    "    block_count=50000,\n",
    "    device=device,\n",
    ")"
   ]
  },
  {
   "cell_type": "code",
   "execution_count": null,
   "id": "90fa15c7",
   "metadata": {},
   "outputs": [],
   "source": [
    "\n",
    "extrinsic_gpu1 = result.transformation.cuda()\n",
    "intrinsic1 = o3d.camera.PinholeCameraIntrinsic(width=camera_info_all_cameras[0][\"width\"],\n",
    "                                              height=camera_info_all_cameras[0][\"height\"],\n",
    "                                              fx=camera_info_all_cameras[0][\"fx\"], fy=camera_info_all_cameras[0][\"fy\"],\n",
    "                                              cx=camera_info_all_cameras[0][\"cx\"], cy=camera_info_all_cameras[0][\"cy\"])\n",
    "intrinsic_gpu1 = o3d.core.Tensor(intrinsic1.intrinsic_matrix, o3d.core.Dtype.Float32, device)\n",
    "​\n",
    "extrinsic_gpu5 = extrinsic_gpu = o3d.core.Tensor(np.eye(4), o3d.core.Dtype.Float32, device)\n",
    "​\n",
    "intrinsic5 = o3d.camera.PinholeCameraIntrinsic(width=camera_info_all_cameras[4][\"width\"],\n",
    "                                              height=camera_info_all_cameras[4][\"height\"],\n",
    "                                              fx=camera_info_all_cameras[4][\"fx\"], fy=camera_info_all_cameras[4][\"fy\"],\n",
    "                                              cx=camera_info_all_cameras[4][\"cx\"], cy=camera_info_all_cameras[4][\"cy\"])\n",
    "intrinsic_gpu5 = o3d.core.Tensor(intrinsic5.intrinsic_matrix, o3d.core.Dtype.Float32, device)\n",
    "​\n",
    "volume.integrate(depth=masked_depth_all_cameras[0][1],\n",
    "                         color=color_frames_all_cameras[0][1],\n",
    "                         intrinsics=intrinsic_gpu1,\n",
    "                         extrinsics=extrinsic_gpu1,\n",
    "                         depth_scale=1000.0,\n",
    "                         depth_max=1.2,\n",
    "                         )\n",
    "volume.integrate(depth=masked_depth_all_cameras[4][1],\n",
    "                 color=color_frames_all_cameras[4][1],\n",
    "                 intrinsics=intrinsic_gpu5,\n",
    "                 extrinsics=extrinsic_gpu5,\n",
    "                 depth_scale=1000.0,\n",
    "                         depth_max=1.2,\n",
    "                         )"
   ]
  }
 ],
 "metadata": {
  "kernelspec": {
   "display_name": "Python 3 (ipykernel)",
   "language": "python",
   "name": "python3"
  },
  "language_info": {
   "codemirror_mode": {
    "name": "ipython",
    "version": 3
   },
   "file_extension": ".py",
   "mimetype": "text/x-python",
   "name": "python",
   "nbconvert_exporter": "python",
   "pygments_lexer": "ipython3",
   "version": "3.8.12"
  }
 },
 "nbformat": 4,
 "nbformat_minor": 5
}
